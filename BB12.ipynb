{
 "cells": [
  {
   "cell_type": "markdown",
   "id": "b691f26b-bc30-455c-8072-0fff9ba14947",
   "metadata": {},
   "source": [
    "# **BB12:** Realiza un script que reciba como parametro una cadena de caracteres y una extensión de fichero (md o txt) y saque por pantalla para cada fichero con esa extensión cuantas veces encuentra en ese fichero la cadena."
   ]
  },
  {
   "cell_type": "markdown",
   "id": "89ff80db-96cd-42d3-b242-67ecb14dee21",
   "metadata": {},
   "source": [
    "Los enlaces se visualizarán de la siguiente manera: <span style=\"color: lightblue; text-decoration:underline;\">**ENLACE**</span>.</br>\n",
    "Los comandos / datos importantes a notar se visualizarán de la siguiente manera: <span style=\"color: green;\">**COMANDO**</span>."
   ]
  },
  {
   "cell_type": "markdown",
   "id": "df58e821-7834-4137-a1f6-bbc95c629841",
   "metadata": {},
   "source": [
    "## Estructura a seguir"
   ]
  },
  {
   "cell_type": "markdown",
   "id": "041b1f99-b044-4aa1-86c7-c09bcb896b83",
   "metadata": {},
   "source": [
    "Para la realización del siguiente script recomendamos dividir las tareas en las siguientes fases.</br>\n",
    "- **1.** __Verificar__ extension .md y .txt.</br>\n",
    "- **2.** __Buscar__ la cadena en archivos con la extensión indicada</br>\n",
    "- **3.** __Iterar__ por cada archivo encontrado e imprimir la cantidad de occurrencias.</br>\n",
    "- **4.** __Imprimir__ las coincidencias por archivo</br>\n",
    "Vamos a proceder a la realización de cada una de las tareas paso por paso..."
   ]
  },
  {
   "cell_type": "markdown",
   "id": "e07fd523-f6d8-4cdf-9c0f-127d1239d19b",
   "metadata": {},
   "source": [
    "### **1. Verificar** extension"
   ]
  },
  {
   "cell_type": "markdown",
   "id": "bc8a5f38-1061-491b-a730-67e95a2fb0df",
   "metadata": {},
   "source": [
    "\n",
    "Para la verificación de una extensión concreta será necesario realizar lo siguiente...</br>\n",
    "- **Definir** una variable global en la cual guardaremos la extensión a comparar.</br>\n",
    "- **Comparar** dicha extensión con '.md' y '.txt'. Lanzaremos un mensaje de éxito si coincide y uno de error si este no es el caso.\n",
    "Para __comparar__ utilizaremos [<span style=\"color: lightblue; text-decoration:underline;\">__REGEX__</span>](https://kodekloud.com/blog/regex-shell-script/).</br>\n",
    "*Cosas importantes a notar...*</br>\n",
    "&nbsp;&nbsp;&nbsp;&nbsp;&nbsp;&nbsp;La estructura <span style=\"color: green;\">**REGEX**</span> funciona de la siguiente manera str_texto =~ str_a_comparar</br>\n",
    "&nbsp;&nbsp;&nbsp;&nbsp;&nbsp;&nbsp;<span style=\"color: green;\">**=~**</span> es el operador de *coincidencia* de expresiones regulares en bash</br>\n",
    "&nbsp;&nbsp;&nbsp;&nbsp;&nbsp;&nbsp;El patrón <span style=\"color: green;\">**\\\\\\.txt\\\\$|\\\\\\.md\\\\$**</span></br>\n",
    "&nbsp;&nbsp;&nbsp;&nbsp;&nbsp;&nbsp;es una expresión regular utilizada para hacer coincidir cadenas que terminan con las extensiones .txt o .md.</br>\n",
    "&nbsp;&nbsp;&nbsp;&nbsp;&nbsp;&nbsp;Recordamos que en bash <span style=\"color: green;\">**$**</span> marca el **FINAL DE LA CADNEA** y <span style=\"color: green;\">**|**</span> actua como el operador **OR**.</br>\n",
    "&nbsp;&nbsp;&nbsp;&nbsp;&nbsp;&nbsp;El <span style=\"color: green;\">**\\\\**</span> delante del punto <span style=\"color: green;\">**.**</span> le dice a la expresión que queremos un punto exacto, no cualquier carácter.</br>\n",
    "\n",
    "A continuación, observamos el código."
   ]
  },
  {
   "cell_type": "code",
   "execution_count": null,
   "id": "2dd8cd3c-dca8-492f-b7d1-b88b0db61ae9",
   "metadata": {},
   "outputs": [],
   "source": [
    "#!/bin/bash\n",
    "EXTENSION=\".md\" #cambia la extensión para comparar  \n",
    "\n",
    "main() {\n",
    "\n",
    "    if [[ \"$EXTENSION\" =~ \\.txt$|\\.md$ ]]; then\n",
    "        echo \"ÉXITO: La extensión sí coincide con .txt o .md\"\n",
    "    else\n",
    "        echo \"ERROR: La extensión no coincide con .txt o .md\"\n",
    "    fi\n",
    "}\n",
    "\n",
    "main"
   ]
  },
  {
   "cell_type": "markdown",
   "id": "86b96bb9-b8ac-4d16-af5c-ba064c1bb6ef",
   "metadata": {},
   "source": [
    "### **2. Buscar** la cadena de carácteres\n",
    "\n",
    "Para buscar la cadena de carácteres de texto indicada dentro de los ficheros tendremos que...\n",
    "1. Definir variable global en la que guardar el texto a buscar\n",
    "2. Buscar dicha cadena en archivos con la extensión dada e imprimir las coincidencias por archivo</br>\n",
    "\n",
    "Por lo tanto, definimos una nueva variable llamada SEARCH_STRING=\"hola\""
   ]
  },
  {
   "cell_type": "code",
   "execution_count": null,
   "id": "15f242eb-6a49-4368-b234-589035d3395f",
   "metadata": {},
   "outputs": [],
   "source": [
    "SEARCH_STRING=\"hola\""
   ]
  },
  {
   "cell_type": "markdown",
   "id": "5a735346-9b24-4365-a749-1f0ee94bf38d",
   "metadata": {},
   "source": [
    "Para buscar la cadena en los archivos con la extensión dada e imprimir las coincidencias por archivo tendremos que trabajar dentro del if que hemos definido en el apartado anterior.</br>\n",
    "\n",
    "Para buscar la cadena en archivos con la extensión dada, deberemos de emplear los siguientes comandos y entenderlos.</br></br>\n",
    "&nbsp;&nbsp;&nbsp;&nbsp;&nbsp;&nbsp;&nbsp;&nbsp;&nbsp;&nbsp;&nbsp;&nbsp;<span style=\"color: green; text-decoration:underline;\">**local files; files=\\$(*comando*)**</span>\n",
    "\n",
    "1. <span style=\"color: green;\">**local**</span> se utiliza para declarar una variable dentro de una función, haciendo que su alcance esté limitado a la función actual y no afecte a variables con el mismo nombre fuera de la función.</br>\n",
    "2. <span style=\"color: green;\">**files**</span> es el nombre de la variable que estamos declarando.</br>\n",
    "3. <span style=\"color: green;\">**files=\\$(**</span>***comando***<span style=\"color: green;\">**)**</span> es una forma de capturar la salida de un comando y almacenarla dentro de la variable... De esta manera todo lo que se ejecute dentro del paréntesis se ejecuta como un comando, asignando su salida a la variable <span style=\"color: green;\">**files**</span>.\n",
    "4. <span style=\"color: green;\">**grep -rl \"$SEARCH_STRING\" * \"EXTENSION\"**</span></br>\n",
    "&nbsp;&nbsp;&nbsp;&nbsp;&nbsp;&nbsp; <span style=\"color: green;\">**grep**</span> Es una herramienta de búsqueda que se utiliza para buscar patrones en archivos.</br>\n",
    "&nbsp;&nbsp;&nbsp;&nbsp;&nbsp;&nbsp;<span style=\"color: green;\">**-r**</span> es una opción para buscar de forma **recursiva** en todos los archivos de los directorios especificados.</br>\n",
    "&nbsp;&nbsp;&nbsp;&nbsp;&nbsp;&nbsp;<span style=\"color: green;\">**-l**</span> Es una opción para mostrar _solo_ los **nombres de los archivos** que contienen el patrón buscado.</br>\n",
    "&nbsp;&nbsp;&nbsp;&nbsp;&nbsp;&nbsp; <span style=\"color: green;\">**\\$SEARCH_STRING**</span> es la variable global que hemos definido antes, es decir ***el patron a buscar***.</br>\n",
    "&nbsp;&nbsp;&nbsp;&nbsp;&nbsp;&nbsp; <span style=\"color: green;\">**--include=\"\\\\*\\${EXTENSION}\"**</Span> filta los archivos que terminan con la extensión especificada en la variable global <span style=\"color: green;\">**\\$EXTENSION**</span>\n",
    "5. <span style=\"color: green;\">**\\.**</span> especifica que grep debe comenzar la búsqueda en el directorio actual y todos sus subdirectorios.\n",
    "6. <span style=\"color: green;\">**2>/dev/null**</span> es una redirección de error estándar. Redirige cualquier mensaje de error producido por el comando grep al dispositivo nulo (/dev/null), que descarta la salida.</br>"
   ]
  },
  {
   "cell_type": "code",
   "execution_count": null,
   "id": "c9385753-6bbd-4dac-8cf1-3c21ff5520bf",
   "metadata": {},
   "outputs": [],
   "source": [
    "files=$(grep -rl \"$SEARCH_STRING\" --include=\"*${EXTENSION}\" . 2>/dev/null)"
   ]
  },
  {
   "cell_type": "markdown",
   "id": "63a7afcd-8dce-4163-87e1-f597cdbfad4f",
   "metadata": {
    "jp-MarkdownHeadingCollapsed": true
   },
   "source": [
    "### **3. ITERAR**\n",
    "A continuación, debemos iterar dentro de la variable <span style=\"color: green;\">files<span style=\"color: green;\">. Para realizar esto, debemos hacer lo siguiente...</br>\n",
    "1. Verificar que la variable <span style=\"color: green;\">**files**</span> no esté vacía.\n",
    "2. Si no está vacía contar cuantas veces existe la **cadena** a buscar dentro del fichero actual (iterar).\n",
    "\n",
    "Por lo tanto, comenzamos comprobando si la variable <span style=\"color: green;\">**files**</span> está o no vacía...</br>\n",
    "<!-- &nbsp;&nbsp;&nbsp;&nbsp;&nbsp;&nbsp; Comprobamos si la longitud de <span style=\"color:green;\">**files**</span> es mayor a 0 con el comando <span style=\"color:green;\">**-n**</span> -->\n",
    "\n",
    "Entonces nuestra estructura <span style=\"color: green;\">**IF**</span> será de la siguiente manera: ```if [[ \"$files\" -n ]]; then```</br>\n"
   ]
  },
  {
   "cell_type": "code",
   "execution_count": null,
   "id": "a242e0ad",
   "metadata": {
    "vscode": {
     "languageId": "shellscript"
    }
   },
   "outputs": [],
   "source": [
    "#!/bin/bash\n",
    "EXTENSION=\".md\" #cambia la extensión para comparar  \n",
    "SEARCH_STRING=\"hola\"\n",
    "\n",
    "main() {\n",
    "    if [[ \"$EXTENSION\" =~ \\.txt$|\\.md$ ]]; then\n",
    "        files=$(grep -rl \"$SEARCH_STRING\" --include=\"*${EXTENSION}\" . 2>/dev/null)\n",
    "        if [[ \"$files\"-n ]]; then\n",
    "            echo \"Existen ficheros\"\n",
    "        fi\n",
    "    else\n",
    "        echo \"ERROR: La extensión no coincide con .txt o .md\"\n",
    "    fi\n",
    "}\n",
    "\n",
    "main"
   ]
  },
  {
   "cell_type": "markdown",
   "id": "95483c4e",
   "metadata": {},
   "source": [
    "\n",
    "Iteramos a continuación, dentro del array de ficheros locales con un bucle <span style=\"color: green;\">**for**</span>, entrando en fichero por fichero para contar la cantidad de ocurrencias de la cadena a buscar..."
   ]
  },
  {
   "cell_type": "code",
   "execution_count": null,
   "id": "bb5ab8c4",
   "metadata": {
    "vscode": {
     "languageId": "shellscript"
    }
   },
   "outputs": [],
   "source": [
    "#!/bin/bash\n",
    "EXTENSION=\".md\" #cambia la extensión para comparar  \n",
    "SEARCH_STRING=\"hola\" #cambia el string a buscar \n",
    "\n",
    "main() {\n",
    "    if [[ \"$EXTENSION\" =~ \\.txt$|\\.md$ ]]; then\n",
    "        files=$(grep -rl \"$SEARCH_STRING\" --include=\"*${EXTENSION}\" . 2>/dev/null)\n",
    "        if [[ \"$files\"-n ]]; then\n",
    "           # Iterar por cada archivo encontrado e imprimir la cantidad de ocurrencias\n",
    "            for file in $files; do\n",
    "                echo \"el contenido irá aquí\"\n",
    "            done\n",
    "        else\n",
    "            printf \"No se encontraron coincidencias para la cadena '%s' en archivos con extensión %s.\\n\" \"$SEARCH_STRING\" \"$EXTENSION\"\n",
    "        fi\n",
    "    else\n",
    "        echo \"ERROR: La extensión no coincide con .txt o .md\"\n",
    "    fi\n",
    "}\n",
    "\n",
    "main"
   ]
  },
  {
   "cell_type": "markdown",
   "id": "7ee50de6",
   "metadata": {},
   "source": [
    "Tras tener la estructura for creada, para buscar dentro de cada fichero del array de ficheros queremos contar la cantidad de ocurrencias de la cadena dentro del fichero en cuestión. Por lo tanto, definiremos una variable local en la cual guardaremos el conteo. <span style=\"color: green;\">**local count**</span>.</br> \n",
    "\n",
    "Tras declarar la variable necesitamos contar la cantidad de veces que se encuentra en el fichero la cadena guardada en nuestra variable <span style=\"color: green;\">**SEARCH_STRING**</span>. Para esto volveremos a utilizar el comandos <span style=\"color: green;\">**gerp**.</span></br>\n",
    "\n",
    "Además, utilizaremos el comando <span style=\"color: green;\">**-o**</span> que nos ayudará a buscar las oincidencias de <span style=\"color: green;\">**SEARCH_STRING**</span> dentro del fichero.\n",
    "\n",
    "Para contar las coincidencias utiliamos el comando <span style=\"color: green;\">**| wc -l**</span>. Este comando cuenta cuántas líneas se imprimen, lo que equivale a cuántas veces aparece la cadena en el archivo. </br></br>```local count; count=$(grep -o \"$SEARCH_STRING\" \"$file\" | wc -l)```"
   ]
  },
  {
   "cell_type": "code",
   "execution_count": null,
   "id": "ade7a91d",
   "metadata": {
    "vscode": {
     "languageId": "shellscript"
    }
   },
   "outputs": [],
   "source": [
    "#!/bin/bash\n",
    "EXTENSION=\".md\" #cambia la extensión para comparar  \n",
    "SEARCH_STRING=\"hola\" #cambia el string a buscar \n",
    "\n",
    "main() {\n",
    "    if [[ \"$EXTENSION\" =~ \\.txt$|\\.md$ ]]; then\n",
    "        files=$(grep -rl \"$SEARCH_STRING\" --include=\"*${EXTENSION}\" . 2>/dev/null)\n",
    "        if [[ \"$files\"-n ]]; then\n",
    "           # Iterar por cada archivo encontrado e imprimir la cantidad de ocurrencias\n",
    "            for file in $files; do\n",
    "                #contenido a buscar aquí\n",
    "                local count; count=$(grep -o \"$SEARCH_STRING\" \"$file\" | wc -l)\n",
    "                \n",
    "            done\n",
    "        else\n",
    "            printf \"No se encontraron coincidencias para la cadena '%s' en archivos con extensión %s.\\n\" \"$SEARCH_STRING\" \"$EXTENSION\"\n",
    "        fi\n",
    "    else\n",
    "        echo \"ERROR: La extensión no coincide con .txt o .md\"\n",
    "    fi\n",
    "}\n",
    "\n",
    "main"
   ]
  },
  {
   "cell_type": "markdown",
   "id": "a53dc1bd",
   "metadata": {},
   "source": [
    "### **4. IMPRIMIR**\n",
    "A continuación, únicamente faltaría imprimir el resultado del conteo...\n",
    "Para esto simplemente tendremos que imprimir la variable count, y la cantidad de ocurrencias encontradas en el fichero actual 'file'.</br></br>\n",
    "```printf \"Archivo: %s - Ocurrencias: %d\\n\" \"$file\" \"$count\"```"
   ]
  },
  {
   "cell_type": "markdown",
   "id": "68dd7cf3-1985-4591-837e-2a854c45540b",
   "metadata": {},
   "source": [
    "## Código completo del script para JUPITER NOTEBOOK"
   ]
  },
  {
   "cell_type": "code",
   "execution_count": null,
   "id": "13a3c8b9-de1e-4f3a-884d-6defca3ebee3",
   "metadata": {},
   "outputs": [],
   "source": [
    "#!/bin/bash\n",
    "\n",
    "# Definición de las variables globales\n",
    "EXTENSION=\".txt\"\n",
    "SEARCH_STRING=\"hola\"\n",
    "\n",
    "# Función principal para buscar la cadena y contar las ocurrencias en cada archivo con la extensión especificada\n",
    "main() {\n",
    "    # Verificar que la extensión sea .txt o .md\n",
    "    if [[ \"$EXTENSION\" =~ \\.txt$|\\.md$ ]]; then\n",
    "        # Buscar la cadena en archivos con la extensión dada e imprimir las coincidencias por archivo\n",
    "        files=$(grep -rl \"$SEARCH_STRING\" --include=\"*${EXTENSION}\" . 2>/dev/null)\n",
    "\n",
    "        \n",
    "        if [[ -n \"$files\" ]]; then\n",
    "            printf \"La cadena '%s' se encontró en los siguientes archivos con extensión %s:\\n\" \"$SEARCH_STRING\" \"$EXTENSION\"\n",
    "            \n",
    "            # Iterar por cada archivo encontrado e imprimir la cantidad de ocurrencias\n",
    "            for file in $files; do\n",
    "                local count; count=$(grep -o \"$SEARCH_STRING\" \"$file\" | wc -l)\n",
    "                printf \"Archivo: %s - Ocurrencias: %d\\n\" \"$file\" \"$count\"\n",
    "            done\n",
    "        else\n",
    "            printf \"No se encontraron coincidencias para la cadena '%s' en archivos con extensión %s.\\n\" \"$SEARCH_STRING\" \"$EXTENSION\"\n",
    "        fi\n",
    "    else\n",
    "        printf \"Error: La extensión no coincide con .txt o .md.\\n\" >&2\n",
    "    fi\n",
    "}\n",
    "\n",
    "# Llamada a la función principal\n",
    "main"
   ]
  }
 ],
 "metadata": {
  "kernelspec": {
   "display_name": "Bash",
   "language": "bash",
   "name": "bash"
  },
  "language_info": {
   "codemirror_mode": "shell",
   "file_extension": ".sh",
   "mimetype": "text/x-sh",
   "name": "bash"
  }
 },
 "nbformat": 4,
 "nbformat_minor": 5
}
